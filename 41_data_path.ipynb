{
 "cells": [
  {
   "cell_type": "markdown",
   "id": "1f3cdc32",
   "metadata": {},
   "source": [
    "### Соберите все данные из папки data в один датафрэйм, имеющий следующие столбцы: \n",
    "- колонки из самих файлов (product_id, quantity), \n",
    "- а также имя пользователя (name), \n",
    "- и дата этих покупок (date, соответствует названию папки, где лежит папка с пользователем)"
   ]
  },
  {
   "cell_type": "code",
   "execution_count": 64,
   "id": "e016761f",
   "metadata": {},
   "outputs": [],
   "source": [
    "import pandas as pd\n",
    "import os"
   ]
  },
  {
   "cell_type": "code",
   "execution_count": 65,
   "id": "b0f94c1b",
   "metadata": {},
   "outputs": [],
   "source": [
    "# Используем первый способ, у него есть нюансы со слэшами"
   ]
  },
  {
   "cell_type": "code",
   "execution_count": 66,
   "id": "6abf8b62",
   "metadata": {},
   "outputs": [],
   "source": [
    "path = 'C:/Users/arkhi/Jupyter notebook/data/data'"
   ]
  },
  {
   "cell_type": "code",
   "execution_count": 67,
   "id": "74f73a90",
   "metadata": {},
   "outputs": [],
   "source": [
    "folder_data = os.listdir('C:/Users/arkhi/Jupyter notebook/data/data')"
   ]
  },
  {
   "cell_type": "code",
   "execution_count": 68,
   "id": "f8e88ccb",
   "metadata": {},
   "outputs": [
    {
     "data": {
      "text/plain": [
       "['2020-12-03',\n",
       " '2020-12-04',\n",
       " '2020-12-05',\n",
       " '2020-12-06',\n",
       " '2020-12-07',\n",
       " '2020-12-08',\n",
       " '2020-12-09']"
      ]
     },
     "execution_count": 68,
     "metadata": {},
     "output_type": "execute_result"
    }
   ],
   "source": [
    "folder_data"
   ]
  },
  {
   "cell_type": "code",
   "execution_count": 69,
   "id": "d3dacd35",
   "metadata": {},
   "outputs": [],
   "source": [
    "# Create df for all data\n",
    "df = pd.DataFrame()\n",
    "\n",
    "# Read data from all files and add it to general df\n",
    "for current_path, dirs, files in os.walk(path):\n",
    "    for file in files:\n",
    "        # Construct full path to file\n",
    "        data_path = f'{current_path}/{file}'\n",
    "        \n",
    "        # Read data      \n",
    "        temp_df = pd.read_csv(data_path)\n",
    "        \n",
    "        # Extract date and name\n",
    "        path_parts = current_path.split('/')\n",
    "        date = path_parts[-2]\n",
    "        name = path_parts[-1]\n",
    "        \n",
    "        # Add date and name columns\n",
    "        temp_df['date'] = date\n",
    "        temp_df['name'] = name\n",
    "        \n",
    "        # Insert data info main df\n",
    "        df = pd.concat((df, temp_df))"
   ]
  },
  {
   "cell_type": "code",
   "execution_count": 70,
   "id": "705ae37f",
   "metadata": {},
   "outputs": [],
   "source": [
    "df.drop(columns = ['Unnamed: 0'], inplace=True)"
   ]
  },
  {
   "cell_type": "code",
   "execution_count": 71,
   "id": "168a5e58",
   "metadata": {},
   "outputs": [],
   "source": [
    "df.reset_index(drop = True, inplace=True)"
   ]
  },
  {
   "cell_type": "code",
   "execution_count": 72,
   "id": "2cf02dfc",
   "metadata": {},
   "outputs": [
    {
     "data": {
      "text/html": [
       "<div>\n",
       "<style scoped>\n",
       "    .dataframe tbody tr th:only-of-type {\n",
       "        vertical-align: middle;\n",
       "    }\n",
       "\n",
       "    .dataframe tbody tr th {\n",
       "        vertical-align: top;\n",
       "    }\n",
       "\n",
       "    .dataframe thead th {\n",
       "        text-align: right;\n",
       "    }\n",
       "</style>\n",
       "<table border=\"1\" class=\"dataframe\">\n",
       "  <thead>\n",
       "    <tr style=\"text-align: right;\">\n",
       "      <th></th>\n",
       "      <th>product_id</th>\n",
       "      <th>quantity</th>\n",
       "      <th>date</th>\n",
       "      <th>name</th>\n",
       "    </tr>\n",
       "  </thead>\n",
       "  <tbody>\n",
       "    <tr>\n",
       "      <th>0</th>\n",
       "      <td>47</td>\n",
       "      <td>1</td>\n",
       "      <td>data</td>\n",
       "      <td>data\\2020-12-03\\Alexey_Smirnov</td>\n",
       "    </tr>\n",
       "    <tr>\n",
       "      <th>1</th>\n",
       "      <td>57</td>\n",
       "      <td>1</td>\n",
       "      <td>data</td>\n",
       "      <td>data\\2020-12-03\\Alexey_Smirnov</td>\n",
       "    </tr>\n",
       "    <tr>\n",
       "      <th>2</th>\n",
       "      <td>14</td>\n",
       "      <td>2</td>\n",
       "      <td>data</td>\n",
       "      <td>data\\2020-12-03\\Alexey_Smirnov</td>\n",
       "    </tr>\n",
       "    <tr>\n",
       "      <th>3</th>\n",
       "      <td>52</td>\n",
       "      <td>1</td>\n",
       "      <td>data</td>\n",
       "      <td>data\\2020-12-03\\Alexey_Smirnov</td>\n",
       "    </tr>\n",
       "    <tr>\n",
       "      <th>4</th>\n",
       "      <td>1</td>\n",
       "      <td>4</td>\n",
       "      <td>data</td>\n",
       "      <td>data\\2020-12-03\\Alexey_Smirnov</td>\n",
       "    </tr>\n",
       "    <tr>\n",
       "      <th>...</th>\n",
       "      <td>...</td>\n",
       "      <td>...</td>\n",
       "      <td>...</td>\n",
       "      <td>...</td>\n",
       "    </tr>\n",
       "    <tr>\n",
       "      <th>156</th>\n",
       "      <td>66</td>\n",
       "      <td>4</td>\n",
       "      <td>data</td>\n",
       "      <td>data\\2020-12-09\\Rostislav_Petrov</td>\n",
       "    </tr>\n",
       "    <tr>\n",
       "      <th>157</th>\n",
       "      <td>39</td>\n",
       "      <td>2</td>\n",
       "      <td>data</td>\n",
       "      <td>data\\2020-12-09\\Rostislav_Petrov</td>\n",
       "    </tr>\n",
       "    <tr>\n",
       "      <th>158</th>\n",
       "      <td>82</td>\n",
       "      <td>4</td>\n",
       "      <td>data</td>\n",
       "      <td>data\\2020-12-09\\Vasiliy_Ivanov</td>\n",
       "    </tr>\n",
       "    <tr>\n",
       "      <th>159</th>\n",
       "      <td>74</td>\n",
       "      <td>2</td>\n",
       "      <td>data</td>\n",
       "      <td>data\\2020-12-09\\Vasiliy_Ivanov</td>\n",
       "    </tr>\n",
       "    <tr>\n",
       "      <th>160</th>\n",
       "      <td>54</td>\n",
       "      <td>3</td>\n",
       "      <td>data</td>\n",
       "      <td>data\\2020-12-09\\Vasiliy_Ivanov</td>\n",
       "    </tr>\n",
       "  </tbody>\n",
       "</table>\n",
       "<p>161 rows × 4 columns</p>\n",
       "</div>"
      ],
      "text/plain": [
       "     product_id  quantity  date                              name\n",
       "0            47         1  data    data\\2020-12-03\\Alexey_Smirnov\n",
       "1            57         1  data    data\\2020-12-03\\Alexey_Smirnov\n",
       "2            14         2  data    data\\2020-12-03\\Alexey_Smirnov\n",
       "3            52         1  data    data\\2020-12-03\\Alexey_Smirnov\n",
       "4             1         4  data    data\\2020-12-03\\Alexey_Smirnov\n",
       "..          ...       ...   ...                               ...\n",
       "156          66         4  data  data\\2020-12-09\\Rostislav_Petrov\n",
       "157          39         2  data  data\\2020-12-09\\Rostislav_Petrov\n",
       "158          82         4  data    data\\2020-12-09\\Vasiliy_Ivanov\n",
       "159          74         2  data    data\\2020-12-09\\Vasiliy_Ivanov\n",
       "160          54         3  data    data\\2020-12-09\\Vasiliy_Ivanov\n",
       "\n",
       "[161 rows x 4 columns]"
      ]
     },
     "execution_count": 72,
     "metadata": {},
     "output_type": "execute_result"
    }
   ],
   "source": [
    "df # Как видно извчечь дату и имя в требуемом виде не удалось"
   ]
  },
  {
   "cell_type": "code",
   "execution_count": null,
   "id": "831036db",
   "metadata": {},
   "outputs": [],
   "source": [
    "# Втоорой способ"
   ]
  },
  {
   "cell_type": "code",
   "execution_count": 56,
   "id": "7d88635e",
   "metadata": {},
   "outputs": [],
   "source": [
    "from pathlib import Path"
   ]
  },
  {
   "cell_type": "code",
   "execution_count": 57,
   "id": "122dc8ba",
   "metadata": {},
   "outputs": [],
   "source": [
    "path = 'C:/Users/arkhi/Jupyter notebook/data/data'"
   ]
  },
  {
   "cell_type": "code",
   "execution_count": 58,
   "id": "8f01729f",
   "metadata": {},
   "outputs": [],
   "source": [
    "path = Path('C:/Users/arkhi/Jupyter notebook/data/data')"
   ]
  },
  {
   "cell_type": "code",
   "execution_count": 59,
   "id": "06932b9f",
   "metadata": {},
   "outputs": [
    {
     "data": {
      "text/plain": [
       "WindowsPath('C:/Users/arkhi/Jupyter notebook/data/data')"
      ]
     },
     "execution_count": 59,
     "metadata": {},
     "output_type": "execute_result"
    }
   ],
   "source": [
    "path"
   ]
  },
  {
   "cell_type": "code",
   "execution_count": 73,
   "id": "1a91c80d",
   "metadata": {},
   "outputs": [],
   "source": [
    "# Create df for all data\n",
    "df = pd.DataFrame()\n",
    "\n",
    "# Read data from all files and add it to general df\n",
    "for current_path, dirs, files in os.walk(path):\n",
    "    for file in files:\n",
    "        part_path = Path(current_path)\n",
    "        data_path = part_path / file\n",
    "        \n",
    "        # Read data      \n",
    "        temp_df = pd.read_csv(data_path)\n",
    "        \n",
    "        # Extract date and name\n",
    "        date = data_path.parts[-3]\n",
    "        name = data_path.parts[-2]\n",
    "        \n",
    "        # Add date and name columns\n",
    "        temp_df['date'] = date\n",
    "        temp_df['name'] = name\n",
    "        \n",
    "        # Insert data info main df\n",
    "        df = pd.concat((df, temp_df))"
   ]
  },
  {
   "cell_type": "code",
   "execution_count": 74,
   "id": "3b8e2341",
   "metadata": {},
   "outputs": [],
   "source": [
    "df.drop(columns = ['Unnamed: 0'], inplace=True)"
   ]
  },
  {
   "cell_type": "code",
   "execution_count": 75,
   "id": "559d935c",
   "metadata": {},
   "outputs": [],
   "source": [
    "df.reset_index(drop = True, inplace=True)"
   ]
  },
  {
   "cell_type": "code",
   "execution_count": 76,
   "id": "38a38d95",
   "metadata": {},
   "outputs": [
    {
     "data": {
      "text/html": [
       "<div>\n",
       "<style scoped>\n",
       "    .dataframe tbody tr th:only-of-type {\n",
       "        vertical-align: middle;\n",
       "    }\n",
       "\n",
       "    .dataframe tbody tr th {\n",
       "        vertical-align: top;\n",
       "    }\n",
       "\n",
       "    .dataframe thead th {\n",
       "        text-align: right;\n",
       "    }\n",
       "</style>\n",
       "<table border=\"1\" class=\"dataframe\">\n",
       "  <thead>\n",
       "    <tr style=\"text-align: right;\">\n",
       "      <th></th>\n",
       "      <th>product_id</th>\n",
       "      <th>quantity</th>\n",
       "      <th>date</th>\n",
       "      <th>name</th>\n",
       "    </tr>\n",
       "  </thead>\n",
       "  <tbody>\n",
       "    <tr>\n",
       "      <th>0</th>\n",
       "      <td>47</td>\n",
       "      <td>1</td>\n",
       "      <td>2020-12-03</td>\n",
       "      <td>Alexey_Smirnov</td>\n",
       "    </tr>\n",
       "    <tr>\n",
       "      <th>1</th>\n",
       "      <td>57</td>\n",
       "      <td>1</td>\n",
       "      <td>2020-12-03</td>\n",
       "      <td>Alexey_Smirnov</td>\n",
       "    </tr>\n",
       "    <tr>\n",
       "      <th>2</th>\n",
       "      <td>14</td>\n",
       "      <td>2</td>\n",
       "      <td>2020-12-03</td>\n",
       "      <td>Alexey_Smirnov</td>\n",
       "    </tr>\n",
       "    <tr>\n",
       "      <th>3</th>\n",
       "      <td>52</td>\n",
       "      <td>1</td>\n",
       "      <td>2020-12-03</td>\n",
       "      <td>Alexey_Smirnov</td>\n",
       "    </tr>\n",
       "    <tr>\n",
       "      <th>4</th>\n",
       "      <td>1</td>\n",
       "      <td>4</td>\n",
       "      <td>2020-12-03</td>\n",
       "      <td>Alexey_Smirnov</td>\n",
       "    </tr>\n",
       "    <tr>\n",
       "      <th>...</th>\n",
       "      <td>...</td>\n",
       "      <td>...</td>\n",
       "      <td>...</td>\n",
       "      <td>...</td>\n",
       "    </tr>\n",
       "    <tr>\n",
       "      <th>156</th>\n",
       "      <td>66</td>\n",
       "      <td>4</td>\n",
       "      <td>2020-12-09</td>\n",
       "      <td>Rostislav_Petrov</td>\n",
       "    </tr>\n",
       "    <tr>\n",
       "      <th>157</th>\n",
       "      <td>39</td>\n",
       "      <td>2</td>\n",
       "      <td>2020-12-09</td>\n",
       "      <td>Rostislav_Petrov</td>\n",
       "    </tr>\n",
       "    <tr>\n",
       "      <th>158</th>\n",
       "      <td>82</td>\n",
       "      <td>4</td>\n",
       "      <td>2020-12-09</td>\n",
       "      <td>Vasiliy_Ivanov</td>\n",
       "    </tr>\n",
       "    <tr>\n",
       "      <th>159</th>\n",
       "      <td>74</td>\n",
       "      <td>2</td>\n",
       "      <td>2020-12-09</td>\n",
       "      <td>Vasiliy_Ivanov</td>\n",
       "    </tr>\n",
       "    <tr>\n",
       "      <th>160</th>\n",
       "      <td>54</td>\n",
       "      <td>3</td>\n",
       "      <td>2020-12-09</td>\n",
       "      <td>Vasiliy_Ivanov</td>\n",
       "    </tr>\n",
       "  </tbody>\n",
       "</table>\n",
       "<p>161 rows × 4 columns</p>\n",
       "</div>"
      ],
      "text/plain": [
       "     product_id  quantity        date              name\n",
       "0            47         1  2020-12-03    Alexey_Smirnov\n",
       "1            57         1  2020-12-03    Alexey_Smirnov\n",
       "2            14         2  2020-12-03    Alexey_Smirnov\n",
       "3            52         1  2020-12-03    Alexey_Smirnov\n",
       "4             1         4  2020-12-03    Alexey_Smirnov\n",
       "..          ...       ...         ...               ...\n",
       "156          66         4  2020-12-09  Rostislav_Petrov\n",
       "157          39         2  2020-12-09  Rostislav_Petrov\n",
       "158          82         4  2020-12-09    Vasiliy_Ivanov\n",
       "159          74         2  2020-12-09    Vasiliy_Ivanov\n",
       "160          54         3  2020-12-09    Vasiliy_Ivanov\n",
       "\n",
       "[161 rows x 4 columns]"
      ]
     },
     "execution_count": 76,
     "metadata": {},
     "output_type": "execute_result"
    }
   ],
   "source": [
    "df"
   ]
  },
  {
   "cell_type": "markdown",
   "id": "8a7ab8c9",
   "metadata": {},
   "source": [
    "### Выясните, какой пользователь купил больше всего товаров. Если их несколько, то перечислите имена через запятую с пробелом и в алфавитном порядке."
   ]
  },
  {
   "cell_type": "code",
   "execution_count": 84,
   "id": "69d99926",
   "metadata": {},
   "outputs": [
    {
     "data": {
      "text/html": [
       "<div>\n",
       "<style scoped>\n",
       "    .dataframe tbody tr th:only-of-type {\n",
       "        vertical-align: middle;\n",
       "    }\n",
       "\n",
       "    .dataframe tbody tr th {\n",
       "        vertical-align: top;\n",
       "    }\n",
       "\n",
       "    .dataframe thead th {\n",
       "        text-align: right;\n",
       "    }\n",
       "</style>\n",
       "<table border=\"1\" class=\"dataframe\">\n",
       "  <thead>\n",
       "    <tr style=\"text-align: right;\">\n",
       "      <th></th>\n",
       "      <th>quantity</th>\n",
       "    </tr>\n",
       "    <tr>\n",
       "      <th>name</th>\n",
       "      <th></th>\n",
       "    </tr>\n",
       "  </thead>\n",
       "  <tbody>\n",
       "    <tr>\n",
       "      <th>Vasiliy_Petrov</th>\n",
       "      <td>7</td>\n",
       "    </tr>\n",
       "    <tr>\n",
       "      <th>Alexey_Petrov</th>\n",
       "      <td>7</td>\n",
       "    </tr>\n",
       "    <tr>\n",
       "      <th>Rostislav_Ivanov</th>\n",
       "      <td>9</td>\n",
       "    </tr>\n",
       "    <tr>\n",
       "      <th>Kirill_Petrov</th>\n",
       "      <td>9</td>\n",
       "    </tr>\n",
       "    <tr>\n",
       "      <th>Petr_Petrov</th>\n",
       "      <td>14</td>\n",
       "    </tr>\n",
       "    <tr>\n",
       "      <th>Vasiliy_Fedorov</th>\n",
       "      <td>15</td>\n",
       "    </tr>\n",
       "    <tr>\n",
       "      <th>Rostislav_Fedorov</th>\n",
       "      <td>16</td>\n",
       "    </tr>\n",
       "    <tr>\n",
       "      <th>Alexey_Ivanov</th>\n",
       "      <td>17</td>\n",
       "    </tr>\n",
       "    <tr>\n",
       "      <th>Rostislav_Smirnov</th>\n",
       "      <td>17</td>\n",
       "    </tr>\n",
       "    <tr>\n",
       "      <th>Kirill_Smirnov</th>\n",
       "      <td>17</td>\n",
       "    </tr>\n",
       "    <tr>\n",
       "      <th>Anton_Petrov</th>\n",
       "      <td>18</td>\n",
       "    </tr>\n",
       "    <tr>\n",
       "      <th>Petr_Ivanov</th>\n",
       "      <td>21</td>\n",
       "    </tr>\n",
       "    <tr>\n",
       "      <th>Anton_Ivanov</th>\n",
       "      <td>23</td>\n",
       "    </tr>\n",
       "    <tr>\n",
       "      <th>Alexey_Fedorov</th>\n",
       "      <td>24</td>\n",
       "    </tr>\n",
       "    <tr>\n",
       "      <th>Vasiliy_Ivanov</th>\n",
       "      <td>27</td>\n",
       "    </tr>\n",
       "    <tr>\n",
       "      <th>Kirill_Fedorov</th>\n",
       "      <td>28</td>\n",
       "    </tr>\n",
       "    <tr>\n",
       "      <th>Rostislav_Petrov</th>\n",
       "      <td>28</td>\n",
       "    </tr>\n",
       "    <tr>\n",
       "      <th>Petr_Fedorov</th>\n",
       "      <td>34</td>\n",
       "    </tr>\n",
       "    <tr>\n",
       "      <th>Anton_Smirnov</th>\n",
       "      <td>45</td>\n",
       "    </tr>\n",
       "    <tr>\n",
       "      <th>Alexey_Smirnov</th>\n",
       "      <td>52</td>\n",
       "    </tr>\n",
       "    <tr>\n",
       "      <th>Petr_Smirnov</th>\n",
       "      <td>52</td>\n",
       "    </tr>\n",
       "  </tbody>\n",
       "</table>\n",
       "</div>"
      ],
      "text/plain": [
       "                   quantity\n",
       "name                       \n",
       "Vasiliy_Petrov            7\n",
       "Alexey_Petrov             7\n",
       "Rostislav_Ivanov          9\n",
       "Kirill_Petrov             9\n",
       "Petr_Petrov              14\n",
       "Vasiliy_Fedorov          15\n",
       "Rostislav_Fedorov        16\n",
       "Alexey_Ivanov            17\n",
       "Rostislav_Smirnov        17\n",
       "Kirill_Smirnov           17\n",
       "Anton_Petrov             18\n",
       "Petr_Ivanov              21\n",
       "Anton_Ivanov             23\n",
       "Alexey_Fedorov           24\n",
       "Vasiliy_Ivanov           27\n",
       "Kirill_Fedorov           28\n",
       "Rostislav_Petrov         28\n",
       "Petr_Fedorov             34\n",
       "Anton_Smirnov            45\n",
       "Alexey_Smirnov           52\n",
       "Petr_Smirnov             52"
      ]
     },
     "execution_count": 84,
     "metadata": {},
     "output_type": "execute_result"
    }
   ],
   "source": [
    "df \\\n",
    "    .groupby('name') \\\n",
    "    .agg({'quantity':'sum'}) \\\n",
    "    .sort_values('quantity')"
   ]
  },
  {
   "cell_type": "markdown",
   "id": "1ce335c7",
   "metadata": {},
   "source": [
    "### Найдите топ-10 товаров по числу проданных единиц за всё время и постройте барплот. \n",
    "Сколько было продано единиц товара с product_id==56?"
   ]
  },
  {
   "cell_type": "code",
   "execution_count": 97,
   "id": "4d13c393",
   "metadata": {},
   "outputs": [],
   "source": [
    "top_products = (\n",
    "    df\n",
    "    .groupby('product_id', as_index = False)\n",
    "    .agg({'quantity':'sum'})\n",
    "    .sort_values('quantity', ascending = False)\n",
    "    .head(10)\n",
    ")"
   ]
  },
  {
   "cell_type": "code",
   "execution_count": 106,
   "id": "ed78b453",
   "metadata": {},
   "outputs": [],
   "source": [
    "import seaborn as sns\n",
    "import matplotlib.pyplot as plt"
   ]
  },
  {
   "cell_type": "code",
   "execution_count": 110,
   "id": "a6edaff1",
   "metadata": {},
   "outputs": [
    {
     "data": {
      "text/plain": [
       "<AxesSubplot:xlabel='product_id', ylabel='quantity'>"
      ]
     },
     "execution_count": 110,
     "metadata": {},
     "output_type": "execute_result"
    },
    {
     "data": {
      "image/png": "[encoded data removed]",
      "text/plain": [
       "<Figure size 640x480 with 1 Axes>"
      ]
     },
     "metadata": {},
     "output_type": "display_data"
    }
   ],
   "source": [
    "#plt.figure(figsize=(21,8))\n",
    "sns.barplot(x = top_products.product_id, y = top_products.quantity, palette = 'viridis')"
   ]
  },
  {
   "cell_type": "markdown",
   "id": "5449b684",
   "metadata": {},
   "source": [
    "### Визуализируйте продажи по дням."
   ]
  },
  {
   "cell_type": "code",
   "execution_count": 120,
   "id": "43f3942e",
   "metadata": {},
   "outputs": [
    {
     "data": {
      "text/plain": [
       "<AxesSubplot:xlabel='date'>"
      ]
     },
     "execution_count": 120,
     "metadata": {},
     "output_type": "execute_result"
    },
    {
     "data": {
      "image/png": "[encoded data removed]",
      "text/plain": [
       "<Figure size 640x480 with 1 Axes>"
      ]
     },
     "metadata": {},
     "output_type": "display_data"
    }
   ],
   "source": [
    "df \\\n",
    "    .groupby('date') \\\n",
    "    .agg({'quantity':'sum'}) \\\n",
    "    .plot(kind = 'bar')"
   ]
  },
  {
   "cell_type": "markdown",
   "id": "c8092dc9",
   "metadata": {},
   "source": [
    "### Сколько пользователей приобрели какой-либо товар повторно (более 1 раза)? \n",
    "Повтором будем считать покупку товара с одинаковым product_id, совершенную в разные дни. "
   ]
  },
  {
   "cell_type": "code",
   "execution_count": 127,
   "id": "ec4d7e94",
   "metadata": {
    "scrolled": true
   },
   "outputs": [
    {
     "data": {
      "text/html": [
       "<div>\n",
       "<style scoped>\n",
       "    .dataframe tbody tr th:only-of-type {\n",
       "        vertical-align: middle;\n",
       "    }\n",
       "\n",
       "    .dataframe tbody tr th {\n",
       "        vertical-align: top;\n",
       "    }\n",
       "\n",
       "    .dataframe thead th {\n",
       "        text-align: right;\n",
       "    }\n",
       "</style>\n",
       "<table border=\"1\" class=\"dataframe\">\n",
       "  <thead>\n",
       "    <tr style=\"text-align: right;\">\n",
       "      <th></th>\n",
       "      <th></th>\n",
       "      <th>date</th>\n",
       "    </tr>\n",
       "    <tr>\n",
       "      <th>name</th>\n",
       "      <th>product_id</th>\n",
       "      <th></th>\n",
       "    </tr>\n",
       "  </thead>\n",
       "  <tbody>\n",
       "    <tr>\n",
       "      <th>Anton_Ivanov</th>\n",
       "      <th>15</th>\n",
       "      <td>2</td>\n",
       "    </tr>\n",
       "    <tr>\n",
       "      <th>Petr_Fedorov</th>\n",
       "      <th>94</th>\n",
       "      <td>2</td>\n",
       "    </tr>\n",
       "  </tbody>\n",
       "</table>\n",
       "</div>"
      ],
      "text/plain": [
       "                         date\n",
       "name         product_id      \n",
       "Anton_Ivanov 15             2\n",
       "Petr_Fedorov 94             2"
      ]
     },
     "execution_count": 127,
     "metadata": {},
     "output_type": "execute_result"
    }
   ],
   "source": [
    "df \\\n",
    "    .groupby(['name', 'product_id']) \\\n",
    "    .agg({'date': pd.Series.nunique}) \\\n",
    "    .query('date > 1')"
   ]
  },
  {
   "cell_type": "markdown",
   "id": "51049e1b",
   "metadata": {},
   "source": [
    "# That's all!!!"
   ]
  }
 ],
 "metadata": {
  "kernelspec": {
   "display_name": "Python 3 (ipykernel)",
   "language": "python",
   "name": "python3"
  },
  "language_info": {
   "codemirror_mode": {
    "name": "ipython",
    "version": 3
   },
   "file_extension": ".py",
   "mimetype": "text/x-python",
   "name": "python",
   "nbconvert_exporter": "python",
   "pygments_lexer": "ipython3",
   "version": "3.9.13"
  }
 },
 "nbformat": 4,
 "nbformat_minor": 5
}
